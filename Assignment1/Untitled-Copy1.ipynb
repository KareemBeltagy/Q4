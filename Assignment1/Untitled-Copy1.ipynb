{
 "cells": [
  {
   "cell_type": "code",
   "execution_count": 14,
   "metadata": {},
   "outputs": [
    {
     "name": "stdout",
     "output_type": "stream",
     "text": [
      "                      daily_vaccinations\n",
      "country                                 \n",
      "Kuwait                               0.0\n",
      "Ecuador                            108.0\n",
      "Isle of Man                        546.0\n",
      "Iceland                           5367.0\n",
      "Luxembourg                        5454.0\n",
      "Panama                            5746.0\n",
      "Gibraltar                        10780.0\n",
      "Cyprus                           12047.0\n",
      "Seychelles                       14751.0\n",
      "Malta                            17191.0\n",
      "Latvia                           20287.0\n",
      "Estonia                          24448.0\n",
      "Costa Rica                       24969.0\n",
      "Bulgaria                         28259.0\n",
      "Oman                             32549.0\n",
      "Slovenia                         49932.0\n",
      "Singapore                        52490.0\n",
      "Croatia                          58762.0\n",
      "Chile                            70078.0\n",
      "Lithuania                        71120.0\n",
      "Norway                           71592.0\n",
      "Slovakia                         82443.0\n",
      "Finland                          85460.0\n",
      "Bahrain                         114506.0\n",
      "Netherlands                     115472.0\n",
      "Switzerland                     119239.0\n",
      "Sweden                          125389.0\n",
      "Ireland                         125638.0\n",
      "Serbia                          129593.0\n",
      "Belgium                         139497.0\n",
      "Greece                          139628.0\n",
      "Hungary                         147175.0\n",
      "Austria                         160064.0\n",
      "Indonesia                       168261.0\n",
      "Northern Ireland                172088.0\n",
      "Czechia                         186394.0\n",
      "Denmark                         206146.0\n",
      "Saudi Arabia                    211705.0\n",
      "Portugal                        213734.0\n",
      "Wales                           215469.0\n",
      "Argentina                       309061.0\n",
      "Brazil                          343035.0\n",
      "Scotland                        358781.0\n",
      "Romania                         383659.0\n",
      "Mexico                          581964.0\n",
      "Poland                          655312.0\n",
      "Canada                          765146.0\n",
      "France                          919019.0\n",
      "Russia                          927026.0\n",
      "Spain                          1191691.0\n",
      "Italy                          1332673.0\n",
      "Germany                        1596597.0\n",
      "United Arab Emirates           1615863.0\n",
      "India                          1778976.0\n",
      "Turkey                         1891715.0\n",
      "Israel                         3451711.0\n",
      "England                        4694078.0\n",
      "United Kingdom                 5368839.0\n",
      "China                         11919643.0\n",
      "United States                 18990938.0\n"
     ]
    }
   ],
   "source": [
    "import numpy as np\n",
    "import pandas as pd\n",
    "data=pd.read_csv('country_vaccination_stats.csv')\n",
    "data=data.fillna(0)\n",
    "new_data=data.groupby('country').sum('daily_vaccinations')\n",
    "print(new_data.sort_values(by='daily_vaccinations', ascending=True))"
   ]
  },
  {
   "cell_type": "code",
   "execution_count": null,
   "metadata": {},
   "outputs": [],
   "source": []
  }
 ],
 "metadata": {
  "kernelspec": {
   "display_name": "Python 3",
   "language": "python",
   "name": "python3"
  },
  "language_info": {
   "codemirror_mode": {
    "name": "ipython",
    "version": 3
   },
   "file_extension": ".py",
   "mimetype": "text/x-python",
   "name": "python",
   "nbconvert_exporter": "python",
   "pygments_lexer": "ipython3",
   "version": "3.8.5"
  }
 },
 "nbformat": 4,
 "nbformat_minor": 4
}
